{
 "cells": [
  {
   "cell_type": "markdown",
   "metadata": {},
   "source": [
    "GENERAL NOTEBOOK FOR PLOTTING ASCII FILES"
   ]
  },
  {
   "cell_type": "markdown",
   "metadata": {},
   "source": [
    "Check current directory and import useful modules:"
   ]
  },
  {
   "cell_type": "code",
   "execution_count": 1,
   "metadata": {},
   "outputs": [
    {
     "data": {
      "text/plain": [
       "'C:\\\\Users\\\\Claudia\\\\Documents\\\\Python Scripts'"
      ]
     },
     "execution_count": 1,
     "metadata": {},
     "output_type": "execute_result"
    }
   ],
   "source": [
    "pwd"
   ]
  },
  {
   "cell_type": "code",
   "execution_count": 2,
   "metadata": {},
   "outputs": [
    {
     "name": "stdout",
     "output_type": "stream",
     "text": [
      "Using matplotlib backend: Qt5Agg\n"
     ]
    }
   ],
   "source": [
    "import numpy as np, matplotlib.pyplot as plt\n",
    "import matplotlib as mpl\n",
    "from matplotlib.widgets import Cursor, Button\n",
    "\n",
    "%matplotlib        "
   ]
  },
  {
   "cell_type": "markdown",
   "metadata": {},
   "source": [
    "This first part of the code imports the text files (2 columns + some useless rows at the beginning), skips the first N rows which we don't need (N to set accordingly), and \"paste\" them all together in spectra.\n",
    "\n",
    "s is a (2n * 301) 2D array, where n is the number of text files that have been pasted together."
   ]
  },
  {
   "cell_type": "code",
   "execution_count": 13,
   "metadata": {},
   "outputs": [
    {
     "name": "stdout",
     "output_type": "stream",
     "text": [
      "00_air.asc\n",
      "Adobe Photoshop CC 2019.lnk\n",
      "Analog\n",
      "Chill\n",
      "Claudia.lnk\n",
      "Crayfish_1.jpg\n",
      "Crayfish_2.jpg\n",
      "Docs\n",
      "Downloads - Shortcut.lnk\n",
      "Exploring Sweden\n",
      "Greenpass.pdf\n",
      "MestReNova.exe\n",
      "OriginPro 9.0 64Bit.lnk\n",
      "PhD\n",
      "QRcode_greenpass.png\n",
      "Sicilia 08-18\n",
      "Spotify.lnk\n",
      "desktop.ini\n"
     ]
    },
    {
     "data": {
      "text/plain": [
       "2"
      ]
     },
     "execution_count": 13,
     "metadata": {},
     "output_type": "execute_result"
    }
   ],
   "source": [
    "import os\n",
    "#os is the module that provides functions for creating and removing a directory (folder),\n",
    "#fetching its contents, changing and identifying the current directory, etc.\n",
    "\n",
    "#Select the directory where your .asc files are located\n",
    "directory = 'C:\\\\Users\\\\Claudia\\\\Desktop'\n",
    "\n",
    "def first_15chars(x):\n",
    "    return(x[:15])\n",
    "\n",
    "sorted_files = sorted(os.listdir(directory), key = first_15chars, reverse = False)\n",
    "\n",
    "s = []\n",
    "for filename in sorted_files:\n",
    "    print(filename)\n",
    "    if filename.endswith(\".asc\"):\n",
    "        file = np.transpose(np.loadtxt(directory+\"\\\\\"+filename))\n",
    "        if len(s)==0:\n",
    "            s = np.copy(file)\n",
    "        else:\n",
    "            s = np.concatenate((s,file), axis = 0)\n",
    "len(s)"
   ]
  },
  {
   "cell_type": "code",
   "execution_count": 20,
   "metadata": {},
   "outputs": [],
   "source": [
    "#Set font and text size\n",
    "\n",
    "mpl.rcParams['font.family'] = 'Avenir'\n",
    "plt.rcParams['font.size'] = 14\n",
    "plt.rcParams['axes.linewidth'] = 2"
   ]
  },
  {
   "cell_type": "code",
   "execution_count": 22,
   "metadata": {},
   "outputs": [],
   "source": [
    "#Simple plot with cursor\n",
    "#Nice color palette\n",
    "\n",
    "fig, ax = plt.subplots(figsize = (10,7))\n",
    "\n",
    "ax.plot(s[0],s[1], linewidth=1, color=\"lightcoral\", label=\"Air\")\n",
    "\n",
    "#Change title\n",
    "fig.suptitle(\"Air bkg\")\n",
    "\n",
    "cursor = Cursor(ax,\n",
    "                horizOn = True,\n",
    "                vertOn = True,\n",
    "                color = \"k\",\n",
    "                linewidth = 1.5)\n",
    "ax.set_xlim(1000,4000)\n",
    "ax.invert_xaxis()\n",
    "ax.set_xlabel(\"Wavelength(nm)\")\n",
    "ax.set_ylabel(\"Absorbance\")\n",
    "ax.legend (loc=\"best\", labelspacing= 0.3)\n",
    "\n",
    "fig.show()"
   ]
  },
  {
   "cell_type": "code",
   "execution_count": null,
   "metadata": {},
   "outputs": [],
   "source": []
  }
 ],
 "metadata": {
  "kernelspec": {
   "display_name": "Python 3",
   "language": "python",
   "name": "python3"
  },
  "language_info": {
   "codemirror_mode": {
    "name": "ipython",
    "version": 3
   },
   "file_extension": ".py",
   "mimetype": "text/x-python",
   "name": "python",
   "nbconvert_exporter": "python",
   "pygments_lexer": "ipython3",
   "version": "3.7.6"
  }
 },
 "nbformat": 4,
 "nbformat_minor": 4
}
